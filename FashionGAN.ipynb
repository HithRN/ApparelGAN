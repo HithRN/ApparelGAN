{
 "cells": [
  {
   "cell_type": "code",
   "execution_count": 1,
   "id": "fcea0446-5048-443a-8693-5dd6a1abdcfa",
   "metadata": {},
   "outputs": [
    {
     "name": "stdout",
     "output_type": "stream",
     "text": [
      "WARNING:tensorflow:From C:\\Users\\hithn\\AppData\\Local\\Programs\\Python\\Python311\\Lib\\site-packages\\keras\\src\\losses.py:2976: The name tf.losses.sparse_softmax_cross_entropy is deprecated. Please use tf.compat.v1.losses.sparse_softmax_cross_entropy instead.\n",
      "\n"
     ]
    }
   ],
   "source": [
    "#bringin in tensorflow\n",
    "import tensorflow as tf\n",
    "# most common code written initially for deep learning\n",
    "gpus = tf.config.experimental.list_physical_devices('GPU')\n",
    "for gpu in gpus:\n",
    "    tf.config.experimental.set_memory_growth(gpu, True)"
   ]
  },
  {
   "cell_type": "code",
   "execution_count": 2,
   "id": "4e8a1d9c-1ad4-4a52-95d8-1206cd68a4a7",
   "metadata": {},
   "outputs": [],
   "source": [
    "#bringing in tensorflow datasets for fashion\n",
    "import tensorflow_datasets as tfds\n",
    "from matplotlib import pyplot as plt"
   ]
  },
  {
   "cell_type": "code",
   "execution_count": 3,
   "id": "20b21867-417e-4523-8a6f-a5fbd484b644",
   "metadata": {},
   "outputs": [],
   "source": [
    "#use the tensorflow datasets api to bring in the data soource\n",
    "ds = tfds.load('fashion_mnist', split ='train')"
   ]
  },
  {
   "cell_type": "code",
   "execution_count": 4,
   "id": "8bdfd821-c86a-4f26-9626-fc78a16c00df",
   "metadata": {},
   "outputs": [
    {
     "data": {
      "text/plain": [
       "2"
      ]
     },
     "execution_count": 4,
     "metadata": {},
     "output_type": "execute_result"
    }
   ],
   "source": [
    "ds.as_numpy_iterator().next()['label']"
   ]
  },
  {
   "cell_type": "code",
   "execution_count": 5,
   "id": "f28e017a-51d1-4924-9e73-b2f9a055767c",
   "metadata": {},
   "outputs": [],
   "source": [
    "#do some data transformation\n",
    "import numpy as np "
   ]
  },
  {
   "cell_type": "code",
   "execution_count": 6,
   "id": "f0687df9-22ab-4d24-937a-560b3f410b6f",
   "metadata": {},
   "outputs": [],
   "source": [
    "#setup connection aka iterator\n",
    "dataiterator = ds.as_numpy_iterator()"
   ]
  },
  {
   "cell_type": "code",
   "execution_count": 7,
   "id": "315dc270-9009-4d04-b135-a8947cb03945",
   "metadata": {},
   "outputs": [],
   "source": [
    "dataiterator = ds.as_numpy_iterator()"
   ]
  },
  {
   "cell_type": "code",
   "execution_count": 8,
   "id": "e16db675-eccb-4b5e-b225-9408dd11fc0f",
   "metadata": {
    "scrolled": true
   },
   "outputs": [
    {
     "data": {
      "text/plain": [
       "array([[[  0],\n",
       "        [  0],\n",
       "        [  0],\n",
       "        [  0],\n",
       "        [  0],\n",
       "        [  0],\n",
       "        [  0],\n",
       "        [  0],\n",
       "        [  0],\n",
       "        [ 18],\n",
       "        [ 77],\n",
       "        [227],\n",
       "        [227],\n",
       "        [208],\n",
       "        [210],\n",
       "        [225],\n",
       "        [216],\n",
       "        [ 85],\n",
       "        [ 32],\n",
       "        [  0],\n",
       "        [  0],\n",
       "        [  0],\n",
       "        [  0],\n",
       "        [  0],\n",
       "        [  0],\n",
       "        [  0],\n",
       "        [  0],\n",
       "        [  0]],\n",
       "\n",
       "       [[  0],\n",
       "        [  0],\n",
       "        [  0],\n",
       "        [  0],\n",
       "        [  0],\n",
       "        [  0],\n",
       "        [  0],\n",
       "        [ 61],\n",
       "        [100],\n",
       "        [ 97],\n",
       "        [ 80],\n",
       "        [ 57],\n",
       "        [117],\n",
       "        [227],\n",
       "        [238],\n",
       "        [115],\n",
       "        [ 49],\n",
       "        [ 78],\n",
       "        [106],\n",
       "        [108],\n",
       "        [ 71],\n",
       "        [  0],\n",
       "        [  0],\n",
       "        [  0],\n",
       "        [  0],\n",
       "        [  0],\n",
       "        [  0],\n",
       "        [  0]],\n",
       "\n",
       "       [[  0],\n",
       "        [  0],\n",
       "        [  0],\n",
       "        [  0],\n",
       "        [  0],\n",
       "        [  0],\n",
       "        [ 81],\n",
       "        [105],\n",
       "        [ 80],\n",
       "        [ 69],\n",
       "        [ 72],\n",
       "        [ 64],\n",
       "        [ 44],\n",
       "        [ 21],\n",
       "        [ 13],\n",
       "        [ 44],\n",
       "        [ 69],\n",
       "        [ 75],\n",
       "        [ 75],\n",
       "        [ 80],\n",
       "        [114],\n",
       "        [ 80],\n",
       "        [  0],\n",
       "        [  0],\n",
       "        [  0],\n",
       "        [  0],\n",
       "        [  0],\n",
       "        [  0]],\n",
       "\n",
       "       [[  0],\n",
       "        [  0],\n",
       "        [  0],\n",
       "        [  0],\n",
       "        [  0],\n",
       "        [ 26],\n",
       "        [ 92],\n",
       "        [ 69],\n",
       "        [ 68],\n",
       "        [ 75],\n",
       "        [ 75],\n",
       "        [ 71],\n",
       "        [ 74],\n",
       "        [ 83],\n",
       "        [ 75],\n",
       "        [ 77],\n",
       "        [ 78],\n",
       "        [ 74],\n",
       "        [ 74],\n",
       "        [ 83],\n",
       "        [ 77],\n",
       "        [108],\n",
       "        [ 34],\n",
       "        [  0],\n",
       "        [  0],\n",
       "        [  0],\n",
       "        [  0],\n",
       "        [  0]],\n",
       "\n",
       "       [[  0],\n",
       "        [  0],\n",
       "        [  0],\n",
       "        [  0],\n",
       "        [  0],\n",
       "        [ 55],\n",
       "        [ 92],\n",
       "        [ 69],\n",
       "        [ 74],\n",
       "        [ 74],\n",
       "        [ 71],\n",
       "        [ 71],\n",
       "        [ 77],\n",
       "        [ 69],\n",
       "        [ 66],\n",
       "        [ 75],\n",
       "        [ 74],\n",
       "        [ 77],\n",
       "        [ 80],\n",
       "        [ 80],\n",
       "        [ 78],\n",
       "        [ 94],\n",
       "        [ 63],\n",
       "        [  0],\n",
       "        [  0],\n",
       "        [  0],\n",
       "        [  0],\n",
       "        [  0]],\n",
       "\n",
       "       [[  0],\n",
       "        [  0],\n",
       "        [  0],\n",
       "        [  0],\n",
       "        [  0],\n",
       "        [ 63],\n",
       "        [ 95],\n",
       "        [ 66],\n",
       "        [ 68],\n",
       "        [ 72],\n",
       "        [ 72],\n",
       "        [ 69],\n",
       "        [ 72],\n",
       "        [ 74],\n",
       "        [ 74],\n",
       "        [ 74],\n",
       "        [ 75],\n",
       "        [ 75],\n",
       "        [ 77],\n",
       "        [ 80],\n",
       "        [ 77],\n",
       "        [106],\n",
       "        [ 61],\n",
       "        [  0],\n",
       "        [  0],\n",
       "        [  0],\n",
       "        [  0],\n",
       "        [  0]],\n",
       "\n",
       "       [[  0],\n",
       "        [  0],\n",
       "        [  0],\n",
       "        [  0],\n",
       "        [  0],\n",
       "        [ 80],\n",
       "        [108],\n",
       "        [ 71],\n",
       "        [ 69],\n",
       "        [ 72],\n",
       "        [ 71],\n",
       "        [ 69],\n",
       "        [ 72],\n",
       "        [ 75],\n",
       "        [ 75],\n",
       "        [ 72],\n",
       "        [ 72],\n",
       "        [ 75],\n",
       "        [ 78],\n",
       "        [ 72],\n",
       "        [ 85],\n",
       "        [128],\n",
       "        [ 64],\n",
       "        [  0],\n",
       "        [  0],\n",
       "        [  0],\n",
       "        [  0],\n",
       "        [  0]],\n",
       "\n",
       "       [[  0],\n",
       "        [  0],\n",
       "        [  0],\n",
       "        [  0],\n",
       "        [  0],\n",
       "        [ 88],\n",
       "        [120],\n",
       "        [ 75],\n",
       "        [ 74],\n",
       "        [ 77],\n",
       "        [ 75],\n",
       "        [ 72],\n",
       "        [ 77],\n",
       "        [ 74],\n",
       "        [ 74],\n",
       "        [ 77],\n",
       "        [ 78],\n",
       "        [ 83],\n",
       "        [ 83],\n",
       "        [ 66],\n",
       "        [111],\n",
       "        [123],\n",
       "        [ 78],\n",
       "        [  0],\n",
       "        [  0],\n",
       "        [  0],\n",
       "        [  0],\n",
       "        [  0]],\n",
       "\n",
       "       [[  0],\n",
       "        [  0],\n",
       "        [  0],\n",
       "        [  0],\n",
       "        [  0],\n",
       "        [ 85],\n",
       "        [134],\n",
       "        [ 74],\n",
       "        [ 85],\n",
       "        [ 69],\n",
       "        [ 75],\n",
       "        [ 75],\n",
       "        [ 74],\n",
       "        [ 75],\n",
       "        [ 74],\n",
       "        [ 75],\n",
       "        [ 75],\n",
       "        [ 81],\n",
       "        [ 75],\n",
       "        [ 61],\n",
       "        [151],\n",
       "        [115],\n",
       "        [ 91],\n",
       "        [ 12],\n",
       "        [  0],\n",
       "        [  0],\n",
       "        [  0],\n",
       "        [  0]],\n",
       "\n",
       "       [[  0],\n",
       "        [  0],\n",
       "        [  0],\n",
       "        [  0],\n",
       "        [ 10],\n",
       "        [ 85],\n",
       "        [153],\n",
       "        [ 83],\n",
       "        [ 80],\n",
       "        [ 68],\n",
       "        [ 77],\n",
       "        [ 75],\n",
       "        [ 74],\n",
       "        [ 75],\n",
       "        [ 74],\n",
       "        [ 75],\n",
       "        [ 77],\n",
       "        [ 80],\n",
       "        [ 68],\n",
       "        [ 61],\n",
       "        [162],\n",
       "        [122],\n",
       "        [ 78],\n",
       "        [  6],\n",
       "        [  0],\n",
       "        [  0],\n",
       "        [  0],\n",
       "        [  0]],\n",
       "\n",
       "       [[  0],\n",
       "        [  0],\n",
       "        [  0],\n",
       "        [  0],\n",
       "        [ 30],\n",
       "        [ 75],\n",
       "        [154],\n",
       "        [ 85],\n",
       "        [ 80],\n",
       "        [ 71],\n",
       "        [ 80],\n",
       "        [ 72],\n",
       "        [ 77],\n",
       "        [ 75],\n",
       "        [ 75],\n",
       "        [ 77],\n",
       "        [ 78],\n",
       "        [ 77],\n",
       "        [ 75],\n",
       "        [ 49],\n",
       "        [191],\n",
       "        [132],\n",
       "        [ 72],\n",
       "        [ 15],\n",
       "        [  0],\n",
       "        [  0],\n",
       "        [  0],\n",
       "        [  0]],\n",
       "\n",
       "       [[  0],\n",
       "        [  0],\n",
       "        [  0],\n",
       "        [  0],\n",
       "        [ 58],\n",
       "        [ 66],\n",
       "        [174],\n",
       "        [115],\n",
       "        [ 66],\n",
       "        [ 77],\n",
       "        [ 80],\n",
       "        [ 72],\n",
       "        [ 78],\n",
       "        [ 75],\n",
       "        [ 77],\n",
       "        [ 78],\n",
       "        [ 78],\n",
       "        [ 77],\n",
       "        [ 66],\n",
       "        [ 49],\n",
       "        [222],\n",
       "        [131],\n",
       "        [ 77],\n",
       "        [ 37],\n",
       "        [  0],\n",
       "        [  0],\n",
       "        [  0],\n",
       "        [  0]],\n",
       "\n",
       "       [[  0],\n",
       "        [  0],\n",
       "        [  0],\n",
       "        [  0],\n",
       "        [ 69],\n",
       "        [ 55],\n",
       "        [179],\n",
       "        [139],\n",
       "        [ 55],\n",
       "        [ 92],\n",
       "        [ 74],\n",
       "        [ 74],\n",
       "        [ 78],\n",
       "        [ 74],\n",
       "        [ 78],\n",
       "        [ 77],\n",
       "        [ 75],\n",
       "        [ 80],\n",
       "        [ 64],\n",
       "        [ 55],\n",
       "        [242],\n",
       "        [111],\n",
       "        [ 95],\n",
       "        [ 44],\n",
       "        [  0],\n",
       "        [  0],\n",
       "        [  0],\n",
       "        [  0]],\n",
       "\n",
       "       [[  0],\n",
       "        [  0],\n",
       "        [  0],\n",
       "        [  0],\n",
       "        [ 74],\n",
       "        [ 57],\n",
       "        [159],\n",
       "        [180],\n",
       "        [ 55],\n",
       "        [ 92],\n",
       "        [ 64],\n",
       "        [ 72],\n",
       "        [ 74],\n",
       "        [ 74],\n",
       "        [ 77],\n",
       "        [ 75],\n",
       "        [ 77],\n",
       "        [ 78],\n",
       "        [ 55],\n",
       "        [ 66],\n",
       "        [255],\n",
       "        [ 97],\n",
       "        [108],\n",
       "        [ 49],\n",
       "        [  0],\n",
       "        [  0],\n",
       "        [  0],\n",
       "        [  0]],\n",
       "\n",
       "       [[  0],\n",
       "        [  0],\n",
       "        [  0],\n",
       "        [  0],\n",
       "        [ 74],\n",
       "        [ 66],\n",
       "        [145],\n",
       "        [153],\n",
       "        [ 72],\n",
       "        [ 83],\n",
       "        [ 58],\n",
       "        [ 78],\n",
       "        [ 77],\n",
       "        [ 75],\n",
       "        [ 75],\n",
       "        [ 75],\n",
       "        [ 72],\n",
       "        [ 80],\n",
       "        [ 30],\n",
       "        [132],\n",
       "        [255],\n",
       "        [ 37],\n",
       "        [122],\n",
       "        [ 60],\n",
       "        [  0],\n",
       "        [  0],\n",
       "        [  0],\n",
       "        [  0]],\n",
       "\n",
       "       [[  0],\n",
       "        [  0],\n",
       "        [  0],\n",
       "        [  0],\n",
       "        [ 80],\n",
       "        [ 69],\n",
       "        [142],\n",
       "        [180],\n",
       "        [142],\n",
       "        [ 57],\n",
       "        [ 64],\n",
       "        [ 78],\n",
       "        [ 74],\n",
       "        [ 75],\n",
       "        [ 75],\n",
       "        [ 75],\n",
       "        [ 72],\n",
       "        [ 85],\n",
       "        [ 21],\n",
       "        [185],\n",
       "        [227],\n",
       "        [ 37],\n",
       "        [143],\n",
       "        [ 63],\n",
       "        [  0],\n",
       "        [  0],\n",
       "        [  0],\n",
       "        [  0]],\n",
       "\n",
       "       [[  0],\n",
       "        [  0],\n",
       "        [  0],\n",
       "        [  0],\n",
       "        [ 83],\n",
       "        [ 71],\n",
       "        [136],\n",
       "        [194],\n",
       "        [126],\n",
       "        [ 46],\n",
       "        [ 69],\n",
       "        [ 75],\n",
       "        [ 72],\n",
       "        [ 75],\n",
       "        [ 75],\n",
       "        [ 75],\n",
       "        [ 74],\n",
       "        [ 78],\n",
       "        [ 38],\n",
       "        [139],\n",
       "        [185],\n",
       "        [ 60],\n",
       "        [151],\n",
       "        [ 58],\n",
       "        [  0],\n",
       "        [  0],\n",
       "        [  0],\n",
       "        [  0]],\n",
       "\n",
       "       [[  0],\n",
       "        [  0],\n",
       "        [  0],\n",
       "        [  4],\n",
       "        [ 81],\n",
       "        [ 74],\n",
       "        [145],\n",
       "        [177],\n",
       "        [ 78],\n",
       "        [ 49],\n",
       "        [ 74],\n",
       "        [ 77],\n",
       "        [ 75],\n",
       "        [ 75],\n",
       "        [ 75],\n",
       "        [ 75],\n",
       "        [ 74],\n",
       "        [ 72],\n",
       "        [ 63],\n",
       "        [ 80],\n",
       "        [156],\n",
       "        [117],\n",
       "        [153],\n",
       "        [ 55],\n",
       "        [  0],\n",
       "        [  0],\n",
       "        [  0],\n",
       "        [  0]],\n",
       "\n",
       "       [[  0],\n",
       "        [  0],\n",
       "        [  0],\n",
       "        [ 10],\n",
       "        [ 80],\n",
       "        [ 72],\n",
       "        [157],\n",
       "        [163],\n",
       "        [ 61],\n",
       "        [ 55],\n",
       "        [ 75],\n",
       "        [ 77],\n",
       "        [ 75],\n",
       "        [ 77],\n",
       "        [ 75],\n",
       "        [ 75],\n",
       "        [ 75],\n",
       "        [ 77],\n",
       "        [ 71],\n",
       "        [ 60],\n",
       "        [ 98],\n",
       "        [156],\n",
       "        [132],\n",
       "        [ 58],\n",
       "        [  0],\n",
       "        [  0],\n",
       "        [  0],\n",
       "        [  0]],\n",
       "\n",
       "       [[  0],\n",
       "        [  0],\n",
       "        [  0],\n",
       "        [ 13],\n",
       "        [ 77],\n",
       "        [ 74],\n",
       "        [157],\n",
       "        [143],\n",
       "        [ 43],\n",
       "        [ 61],\n",
       "        [ 72],\n",
       "        [ 75],\n",
       "        [ 77],\n",
       "        [ 75],\n",
       "        [ 74],\n",
       "        [ 77],\n",
       "        [ 77],\n",
       "        [ 75],\n",
       "        [ 71],\n",
       "        [ 58],\n",
       "        [ 80],\n",
       "        [157],\n",
       "        [120],\n",
       "        [ 66],\n",
       "        [  0],\n",
       "        [  0],\n",
       "        [  0],\n",
       "        [  0]],\n",
       "\n",
       "       [[  0],\n",
       "        [  0],\n",
       "        [  0],\n",
       "        [ 18],\n",
       "        [ 81],\n",
       "        [ 74],\n",
       "        [156],\n",
       "        [114],\n",
       "        [ 35],\n",
       "        [ 72],\n",
       "        [ 71],\n",
       "        [ 75],\n",
       "        [ 78],\n",
       "        [ 72],\n",
       "        [ 66],\n",
       "        [ 80],\n",
       "        [ 78],\n",
       "        [ 77],\n",
       "        [ 75],\n",
       "        [ 64],\n",
       "        [ 63],\n",
       "        [165],\n",
       "        [119],\n",
       "        [ 68],\n",
       "        [  0],\n",
       "        [  0],\n",
       "        [  0],\n",
       "        [  0]],\n",
       "\n",
       "       [[  0],\n",
       "        [  0],\n",
       "        [  0],\n",
       "        [ 23],\n",
       "        [ 85],\n",
       "        [ 81],\n",
       "        [177],\n",
       "        [ 57],\n",
       "        [ 52],\n",
       "        [ 77],\n",
       "        [ 71],\n",
       "        [ 78],\n",
       "        [ 80],\n",
       "        [ 72],\n",
       "        [ 75],\n",
       "        [ 74],\n",
       "        [ 77],\n",
       "        [ 77],\n",
       "        [ 75],\n",
       "        [ 64],\n",
       "        [ 37],\n",
       "        [173],\n",
       "        [ 95],\n",
       "        [ 72],\n",
       "        [  0],\n",
       "        [  0],\n",
       "        [  0],\n",
       "        [  0]],\n",
       "\n",
       "       [[  0],\n",
       "        [  0],\n",
       "        [  0],\n",
       "        [ 26],\n",
       "        [ 81],\n",
       "        [ 86],\n",
       "        [160],\n",
       "        [ 20],\n",
       "        [ 75],\n",
       "        [ 77],\n",
       "        [ 77],\n",
       "        [ 80],\n",
       "        [ 78],\n",
       "        [ 80],\n",
       "        [ 89],\n",
       "        [ 78],\n",
       "        [ 81],\n",
       "        [ 83],\n",
       "        [ 80],\n",
       "        [ 74],\n",
       "        [ 20],\n",
       "        [177],\n",
       "        [ 77],\n",
       "        [ 74],\n",
       "        [  0],\n",
       "        [  0],\n",
       "        [  0],\n",
       "        [  0]],\n",
       "\n",
       "       [[  0],\n",
       "        [  0],\n",
       "        [  0],\n",
       "        [ 49],\n",
       "        [ 77],\n",
       "        [ 91],\n",
       "        [200],\n",
       "        [  0],\n",
       "        [ 83],\n",
       "        [ 95],\n",
       "        [ 86],\n",
       "        [ 88],\n",
       "        [ 88],\n",
       "        [ 89],\n",
       "        [ 88],\n",
       "        [ 89],\n",
       "        [ 88],\n",
       "        [ 83],\n",
       "        [ 89],\n",
       "        [ 86],\n",
       "        [  0],\n",
       "        [191],\n",
       "        [ 78],\n",
       "        [ 80],\n",
       "        [ 24],\n",
       "        [  0],\n",
       "        [  0],\n",
       "        [  0]],\n",
       "\n",
       "       [[  0],\n",
       "        [  0],\n",
       "        [  0],\n",
       "        [ 54],\n",
       "        [ 71],\n",
       "        [108],\n",
       "        [165],\n",
       "        [  0],\n",
       "        [ 24],\n",
       "        [ 57],\n",
       "        [ 52],\n",
       "        [ 57],\n",
       "        [ 60],\n",
       "        [ 60],\n",
       "        [ 60],\n",
       "        [ 63],\n",
       "        [ 63],\n",
       "        [ 77],\n",
       "        [ 89],\n",
       "        [ 52],\n",
       "        [  0],\n",
       "        [211],\n",
       "        [ 97],\n",
       "        [ 77],\n",
       "        [ 61],\n",
       "        [  0],\n",
       "        [  0],\n",
       "        [  0]],\n",
       "\n",
       "       [[  0],\n",
       "        [  0],\n",
       "        [  0],\n",
       "        [ 68],\n",
       "        [ 91],\n",
       "        [117],\n",
       "        [137],\n",
       "        [  0],\n",
       "        [  0],\n",
       "        [  0],\n",
       "        [  0],\n",
       "        [  0],\n",
       "        [  0],\n",
       "        [  0],\n",
       "        [  0],\n",
       "        [  0],\n",
       "        [  0],\n",
       "        [  0],\n",
       "        [  0],\n",
       "        [  0],\n",
       "        [ 18],\n",
       "        [216],\n",
       "        [ 94],\n",
       "        [ 97],\n",
       "        [ 57],\n",
       "        [  0],\n",
       "        [  0],\n",
       "        [  0]],\n",
       "\n",
       "       [[  0],\n",
       "        [  0],\n",
       "        [  0],\n",
       "        [ 54],\n",
       "        [115],\n",
       "        [105],\n",
       "        [185],\n",
       "        [  0],\n",
       "        [  0],\n",
       "        [  1],\n",
       "        [  0],\n",
       "        [  0],\n",
       "        [  0],\n",
       "        [  0],\n",
       "        [  0],\n",
       "        [  0],\n",
       "        [  0],\n",
       "        [  0],\n",
       "        [  0],\n",
       "        [  0],\n",
       "        [  0],\n",
       "        [153],\n",
       "        [ 78],\n",
       "        [106],\n",
       "        [ 37],\n",
       "        [  0],\n",
       "        [  0],\n",
       "        [  0]],\n",
       "\n",
       "       [[  0],\n",
       "        [  0],\n",
       "        [  0],\n",
       "        [ 18],\n",
       "        [ 61],\n",
       "        [ 41],\n",
       "        [103],\n",
       "        [  0],\n",
       "        [  0],\n",
       "        [  0],\n",
       "        [  0],\n",
       "        [  0],\n",
       "        [  0],\n",
       "        [  0],\n",
       "        [  0],\n",
       "        [  0],\n",
       "        [  0],\n",
       "        [  0],\n",
       "        [  0],\n",
       "        [  0],\n",
       "        [  0],\n",
       "        [106],\n",
       "        [ 47],\n",
       "        [ 69],\n",
       "        [ 23],\n",
       "        [  0],\n",
       "        [  0],\n",
       "        [  0]]], dtype=uint8)"
      ]
     },
     "execution_count": 8,
     "metadata": {},
     "output_type": "execute_result"
    }
   ],
   "source": [
    "#getting data out of the pipeline\n",
    "dataiterator.next()['image']"
   ]
  },
  {
   "cell_type": "code",
   "execution_count": 9,
   "id": "74c98ede-3aab-4030-b488-ef66fc9cbabf",
   "metadata": {},
   "outputs": [
    {
     "data": {
      "image/png": "[encoded data removed]",
      "text/plain": [
       "<Figure size 2000x2000 with 4 Axes>"
      ]
     },
     "metadata": {},
     "output_type": "display_data"
    }
   ],
   "source": [
    "#setup the subplot formatting\n",
    "fig, ax = plt.subplots(ncols=4, figsize=(20,20))\n",
    "for idx in range(4):\n",
    "    sample = dataiterator.next()\n",
    "    ax[idx].imshow(np.squeeze(sample['image']))\n",
    "    ax[idx].title.set_text(sample['label'])"
   ]
  },
  {
   "cell_type": "code",
   "execution_count": 10,
   "id": "38ae832a-57ad-4fcf-ac7b-ecf00e954bf3",
   "metadata": {},
   "outputs": [],
   "source": [
    "#scale and return images only\n",
    "def scale_images(data):\n",
    "    image = data['image']\n",
    "    return image / 255"
   ]
  },
  {
   "cell_type": "code",
   "execution_count": 11,
   "id": "2d798dec-70d5-4d3f-8ddf-3d45a46c0a1d",
   "metadata": {},
   "outputs": [],
   "source": [
    "ds = tfds.load('fashion_mnist', split = 'train')\n",
    "#running the dataset through the scale_image preprocessing step\n",
    "ds = ds.map(scale_images)\n",
    "#cache the dataset for that batch\n",
    "ds = ds.cache()\n",
    "#shuffle it up\n",
    "ds = ds.shuffle(60000)\n",
    "#batch into 128 images per sample\n",
    "ds = ds.batch(128)\n",
    "#reduces the likelihood of bottlenecking\n",
    "ds = ds.prefetch(64)"
   ]
  },
  {
   "cell_type": "code",
   "execution_count": 12,
   "id": "3101acdc-c7db-4b08-96fe-14bde21d10b9",
   "metadata": {},
   "outputs": [
    {
     "data": {
      "text/plain": [
       "(128, 28, 28, 1)"
      ]
     },
     "execution_count": 12,
     "metadata": {},
     "output_type": "execute_result"
    }
   ],
   "source": [
    "ds.as_numpy_iterator().next().shape"
   ]
  },
  {
   "cell_type": "raw",
   "id": "2ed719d1-7623-4192-bc8e-a61243c38cf9",
   "metadata": {},
   "source": [
    "building neural network"
   ]
  },
  {
   "cell_type": "markdown",
   "id": "4b0fea4b-e251-4ba7-945f-8b2a7b8d8dc0",
   "metadata": {},
   "source": [
    "importing modelling components"
   ]
  },
  {
   "cell_type": "code",
   "execution_count": 13,
   "id": "0c3dc4be-9f5f-4ad8-ba45-375a2129ea30",
   "metadata": {},
   "outputs": [],
   "source": [
    "#bring in the sequential api for the generator and discriminator\n",
    "from tensorflow.keras.models import Sequential\n",
    "#bring in the layers for the neural networks\n",
    "from tensorflow.keras.layers import Conv2D, Dense, Flatten, Reshape, LeakyReLU, Dropout, UpSampling2D"
   ]
  },
  {
   "cell_type": "raw",
   "id": "c5515c58-b4e8-4fe6-8065-2989aa713fd1",
   "metadata": {},
   "source": [
    "Conv2D - creates 2D convolution layer, basically image ka jo bhi data hai (width , padding) vo sab extract krne me madad karta\n",
    "how does it do it "
   ]
  },
  {
   "cell_type": "raw",
   "id": "71a2402c-fce7-4735-9411-c054d4398736",
   "metadata": {},
   "source": [
    "creating the generator"
   ]
  },
  {
   "cell_type": "code",
   "execution_count": 14,
   "id": "0f6400bf-4505-4ace-838c-19a293731ebe",
   "metadata": {},
   "outputs": [],
   "source": [
    "def build_generator():\n",
    "    model = Sequential()\n",
    "\n",
    "    #takes in random values and reshpes it to 7x7x128\n",
    "    #beginning of a generated image\n",
    "    model.add(Dense(7*7*128, input_dim=128))\n",
    "    model.add(LeakyReLU(0.2))\n",
    "    model.add(Reshape((7,7,128)))\n",
    "\n",
    "    #upsampling block 1\n",
    "    model.add(UpSampling2D())\n",
    "    model.add(Conv2D(128, 5, padding='same'))\n",
    "    model.add(LeakyReLU(0.2))\n",
    "\n",
    "     #upsampling block 2\n",
    "    model.add(UpSampling2D())\n",
    "    model.add(Conv2D(128, 5, padding='same'))\n",
    "    model.add(LeakyReLU(0.2))\n",
    "\n",
    "    #convulational block 1\n",
    "    model.add(Conv2D(128, 4, padding='same'))\n",
    "    model.add(LeakyReLU(0.2))\n",
    "\n",
    "     #convulational block 2\n",
    "    model.add(Conv2D(128, 4, padding='same'))\n",
    "    model.add(LeakyReLU(0.2))\n",
    "\n",
    "    #sconv layer to get to one channel  \n",
    "    model.add(Conv2D(1, 4, padding='same', activation='sigmoid'))\n",
    "\n",
    "    return model"
   ]
  },
  {
   "cell_type": "code",
   "execution_count": 15,
   "id": "329aff71-e70a-4f59-bc88-cf1f8d153c6d",
   "metadata": {},
   "outputs": [
    {
     "name": "stdout",
     "output_type": "stream",
     "text": [
      "WARNING:tensorflow:From C:\\Users\\hithn\\AppData\\Local\\Programs\\Python\\Python311\\Lib\\site-packages\\keras\\src\\backend.py:873: The name tf.get_default_graph is deprecated. Please use tf.compat.v1.get_default_graph instead.\n",
      "\n"
     ]
    },
    {
     "name": "stderr",
     "output_type": "stream",
     "text": [
      "WARNING:tensorflow:From C:\\Users\\hithn\\AppData\\Local\\Programs\\Python\\Python311\\Lib\\site-packages\\keras\\src\\backend.py:873: The name tf.get_default_graph is deprecated. Please use tf.compat.v1.get_default_graph instead.\n",
      "\n"
     ]
    }
   ],
   "source": [
    "generator = build_generator()"
   ]
  },
  {
   "cell_type": "code",
   "execution_count": 16,
   "id": "1a9a35fb-5596-4af3-9b08-4bd143ee6a41",
   "metadata": {},
   "outputs": [
    {
     "name": "stdout",
     "output_type": "stream",
     "text": [
      "Model: \"sequential\"\n",
      "_________________________________________________________________\n",
      " Layer (type)                Output Shape              Param #   \n",
      "=================================================================\n",
      " dense (Dense)               (None, 6272)              809088    \n",
      "                                                                 \n",
      " leaky_re_lu (LeakyReLU)     (None, 6272)              0         \n",
      "                                                                 \n",
      " reshape (Reshape)           (None, 7, 7, 128)         0         \n",
      "                                                                 \n",
      " up_sampling2d (UpSampling2  (None, 14, 14, 128)       0         \n",
      " D)                                                              \n",
      "                                                                 \n",
      " conv2d (Conv2D)             (None, 14, 14, 128)       409728    \n",
      "                                                                 \n",
      " leaky_re_lu_1 (LeakyReLU)   (None, 14, 14, 128)       0         \n",
      "                                                                 \n",
      " up_sampling2d_1 (UpSamplin  (None, 28, 28, 128)       0         \n",
      " g2D)                                                            \n",
      "                                                                 \n",
      " conv2d_1 (Conv2D)           (None, 28, 28, 128)       409728    \n",
      "                                                                 \n",
      " leaky_re_lu_2 (LeakyReLU)   (None, 28, 28, 128)       0         \n",
      "                                                                 \n",
      " conv2d_2 (Conv2D)           (None, 28, 28, 128)       262272    \n",
      "                                                                 \n",
      " leaky_re_lu_3 (LeakyReLU)   (None, 28, 28, 128)       0         \n",
      "                                                                 \n",
      " conv2d_3 (Conv2D)           (None, 28, 28, 128)       262272    \n",
      "                                                                 \n",
      " leaky_re_lu_4 (LeakyReLU)   (None, 28, 28, 128)       0         \n",
      "                                                                 \n",
      " conv2d_4 (Conv2D)           (None, 28, 28, 1)         2049      \n",
      "                                                                 \n",
      "=================================================================\n",
      "Total params: 2155137 (8.22 MB)\n",
      "Trainable params: 2155137 (8.22 MB)\n",
      "Non-trainable params: 0 (0.00 Byte)\n",
      "_________________________________________________________________\n"
     ]
    }
   ],
   "source": [
    "generator.summary()"
   ]
  },
  {
   "cell_type": "code",
   "execution_count": 17,
   "id": "49f07cc3-e8cc-4644-af8d-51b23ea4c279",
   "metadata": {},
   "outputs": [
    {
     "name": "stdout",
     "output_type": "stream",
     "text": [
      "1/1 [==============================] - 0s 198ms/step\n"
     ]
    }
   ],
   "source": [
    "img = generator.predict(np.random.randn(4,128,1))"
   ]
  },
  {
   "cell_type": "code",
   "execution_count": 18,
   "id": "396f0b17-c45a-4b25-9f91-14065cf69571",
   "metadata": {},
   "outputs": [
    {
     "data": {
      "text/plain": [
       "(4, 28, 28, 1)"
      ]
     },
     "execution_count": 18,
     "metadata": {},
     "output_type": "execute_result"
    }
   ],
   "source": [
    "img.shape"
   ]
  },
  {
   "cell_type": "code",
   "execution_count": 19,
   "id": "c3fe5cba-bcdc-42d5-8819-efcda2e91654",
   "metadata": {},
   "outputs": [
    {
     "name": "stdout",
     "output_type": "stream",
     "text": [
      "1/1 [==============================] - 0s 33ms/step\n"
     ]
    },
    {
     "data": {
      "image/png": "[encoded data removed]",
      "text/plain": [
       "<Figure size 2000x2000 with 4 Axes>"
      ]
     },
     "metadata": {},
     "output_type": "display_data"
    }
   ],
   "source": [
    "#generate new fashion\n",
    "img = generator.predict(np.random.randn(4,128,1))\n",
    "#setup the subplot formatting\n",
    "fig, ax = plt.subplots(ncols=4, figsize=(20,20))\n",
    "#copy four times and get the image\n",
    "for idx, img in enumerate(img):\n",
    "    #plot the img using specific subplot\n",
    "    ax[idx].imshow(np.squeeze(img))\n",
    "    #appending the image label as the plot title\n",
    "    ax[idx].title.set_text(idx)"
   ]
  },
  {
   "cell_type": "raw",
   "id": "9e8968be-723c-40c3-a2fc-1adc481c8b33",
   "metadata": {},
   "source": [
    "Build Discriminator"
   ]
  },
  {
   "cell_type": "code",
   "execution_count": 20,
   "id": "6b0b01f4-f7a2-44e2-a8a2-e8c1523fe861",
   "metadata": {},
   "outputs": [],
   "source": [
    "def build_discriminator():\n",
    "    model = Sequential()\n",
    "\n",
    "    #first conv block\n",
    "    model.add(Conv2D(32, 5, input_shape = (28,28,1)))\n",
    "    model.add(LeakyReLU(0.2))\n",
    "    model.add(Dropout(0.4))\n",
    "\n",
    "    #second conv block\n",
    "    model.add(Conv2D(64, 5))\n",
    "    model.add(LeakyReLU(0.2))\n",
    "    model.add(Dropout(0.4))\n",
    "\n",
    "     #third conv block\n",
    "    model.add(Conv2D(128, 5))\n",
    "    model.add(LeakyReLU(0.2))\n",
    "    model.add(Dropout(0.4))\n",
    "\n",
    "     #fourth conv block\n",
    "    model.add(Conv2D(256, 5))\n",
    "    model.add(LeakyReLU(0.2))\n",
    "    model.add(Dropout(0.4))\n",
    "\n",
    "    #flatten then pass to Dense layer\n",
    "    model.add(Flatten())\n",
    "    model.add(Dropout(0.4))\n",
    "    model.add(Dense(1, activation='sigmoid')) \n",
    "\n",
    "    return model"
   ]
  },
  {
   "cell_type": "code",
   "execution_count": 21,
   "id": "07d86f72-2a7c-46fc-a8fd-e69a3a113787",
   "metadata": {},
   "outputs": [],
   "source": [
    "discriminator = build_discriminator()"
   ]
  },
  {
   "cell_type": "code",
   "execution_count": 22,
   "id": "9234b9c4-eb5e-438a-ac2f-c2f53105b5f1",
   "metadata": {
    "scrolled": true
   },
   "outputs": [
    {
     "name": "stdout",
     "output_type": "stream",
     "text": [
      "Model: \"sequential_1\"\n",
      "_________________________________________________________________\n",
      " Layer (type)                Output Shape              Param #   \n",
      "=================================================================\n",
      " conv2d_5 (Conv2D)           (None, 24, 24, 32)        832       \n",
      "                                                                 \n",
      " leaky_re_lu_5 (LeakyReLU)   (None, 24, 24, 32)        0         \n",
      "                                                                 \n",
      " dropout (Dropout)           (None, 24, 24, 32)        0         \n",
      "                                                                 \n",
      " conv2d_6 (Conv2D)           (None, 20, 20, 64)        51264     \n",
      "                                                                 \n",
      " leaky_re_lu_6 (LeakyReLU)   (None, 20, 20, 64)        0         \n",
      "                                                                 \n",
      " dropout_1 (Dropout)         (None, 20, 20, 64)        0         \n",
      "                                                                 \n",
      " conv2d_7 (Conv2D)           (None, 16, 16, 128)       204928    \n",
      "                                                                 \n",
      " leaky_re_lu_7 (LeakyReLU)   (None, 16, 16, 128)       0         \n",
      "                                                                 \n",
      " dropout_2 (Dropout)         (None, 16, 16, 128)       0         \n",
      "                                                                 \n",
      " conv2d_8 (Conv2D)           (None, 12, 12, 256)       819456    \n",
      "                                                                 \n",
      " leaky_re_lu_8 (LeakyReLU)   (None, 12, 12, 256)       0         \n",
      "                                                                 \n",
      " dropout_3 (Dropout)         (None, 12, 12, 256)       0         \n",
      "                                                                 \n",
      " flatten (Flatten)           (None, 36864)             0         \n",
      "                                                                 \n",
      " dropout_4 (Dropout)         (None, 36864)             0         \n",
      "                                                                 \n",
      " dense_1 (Dense)             (None, 1)                 36865     \n",
      "                                                                 \n",
      "=================================================================\n",
      "Total params: 1113345 (4.25 MB)\n",
      "Trainable params: 1113345 (4.25 MB)\n",
      "Non-trainable params: 0 (0.00 Byte)\n",
      "_________________________________________________________________\n"
     ]
    }
   ],
   "source": [
    "discriminator.summary()"
   ]
  },
  {
   "cell_type": "code",
   "execution_count": 23,
   "id": "dacc86b1-33e8-40a3-9734-9411302c0809",
   "metadata": {},
   "outputs": [
    {
     "name": "stdout",
     "output_type": "stream",
     "text": [
      "1/1 [==============================] - 0s 33ms/step\n"
     ]
    }
   ],
   "source": [
    "img = generator.predict(np.random.randn(4,128,1))"
   ]
  },
  {
   "cell_type": "code",
   "execution_count": 24,
   "id": "113e00cc-4def-4ccf-951d-45f19152bdd2",
   "metadata": {},
   "outputs": [],
   "source": [
    "img = img[0]"
   ]
  },
  {
   "cell_type": "code",
   "execution_count": 25,
   "id": "8f86f1a3-3ebb-439a-88c3-f86f47493976",
   "metadata": {},
   "outputs": [
    {
     "data": {
      "text/plain": [
       "(28, 28, 1)"
      ]
     },
     "execution_count": 25,
     "metadata": {},
     "output_type": "execute_result"
    }
   ],
   "source": [
    "img.shape"
   ]
  },
  {
   "cell_type": "code",
   "execution_count": 26,
   "id": "d1295c15-1626-49d3-bd07-b702a0fc1a4c",
   "metadata": {},
   "outputs": [
    {
     "name": "stdout",
     "output_type": "stream",
     "text": [
      "1/1 [==============================] - 0s 74ms/step\n"
     ]
    },
    {
     "data": {
      "text/plain": [
       "array([[0.50031793]], dtype=float32)"
      ]
     },
     "execution_count": 26,
     "metadata": {},
     "output_type": "execute_result"
    }
   ],
   "source": [
    "discriminator.predict(np.expand_dims(img,0))"
   ]
  },
  {
   "cell_type": "raw",
   "id": "91ec8093-329d-4715-b878-61574cf0baf4",
   "metadata": {},
   "source": [
    "construct training loop"
   ]
  },
  {
   "cell_type": "markdown",
   "id": "262a06e5-3662-4bf8-b286-94299f79ecd8",
   "metadata": {},
   "source": [
    "setup losses and optimisers\n",
    "as we have to train both generator and discriminator simaltaneously\n",
    "so these will help in correcting the genrator and discriminator everytime the prediction goes wrong \n"
   ]
  },
  {
   "cell_type": "code",
   "execution_count": 27,
   "id": "65902871-5b9b-443d-ad27-8810f66206cb",
   "metadata": {},
   "outputs": [],
   "source": [
    "#adam will be optimiser for both  \n",
    "from tensorflow.keras.optimizers import Adam\n",
    "#BCe will gonna be loss for both\n",
    "from tensorflow.keras.losses import BinaryCrossentropy"
   ]
  },
  {
   "cell_type": "code",
   "execution_count": 28,
   "id": "e53dc61d-cebd-4cac-b943-f02d862d7565",
   "metadata": {},
   "outputs": [],
   "source": [
    "g_opt = Adam(learning_rate=0.0001)\n",
    "d_opt = Adam(learning_rate=0.00001)\n",
    "g_loss = BinaryCrossentropy()\n",
    "d_loss = BinaryCrossentropy()"
   ]
  },
  {
   "cell_type": "raw",
   "id": "2a5f7703-a9d5-417a-86f8-08f92bd6673b",
   "metadata": {},
   "source": [
    "build subclass model"
   ]
  },
  {
   "cell_type": "code",
   "execution_count": 29,
   "id": "91737888-0692-414e-939f-e88dcd1e6747",
   "metadata": {},
   "outputs": [],
   "source": [
    "from tensorflow.keras.models import Model"
   ]
  },
  {
   "cell_type": "code",
   "execution_count": 30,
   "id": "d949e3bd-5f4b-461f-9fee-ea825473a0af",
   "metadata": {
    "scrolled": true
   },
   "outputs": [
    {
     "data": {
      "text/plain": [
       "<tf.Tensor: shape=(12, 128), dtype=float32, numpy=\n",
       "array([[0., 0., 0., ..., 0., 0., 0.],\n",
       "       [0., 0., 0., ..., 0., 0., 0.],\n",
       "       [0., 0., 0., ..., 0., 0., 0.],\n",
       "       ...,\n",
       "       [1., 1., 1., ..., 1., 1., 1.],\n",
       "       [1., 1., 1., ..., 1., 1., 1.],\n",
       "       [1., 1., 1., ..., 1., 1., 1.]], dtype=float32)>"
      ]
     },
     "execution_count": 30,
     "metadata": {},
     "output_type": "execute_result"
    }
   ],
   "source": [
    "tf.concat([tf.zeros_like(tf.random.normal((6, 128))), tf.ones_like(tf.random.normal((6, 128)))], axis=0)"
   ]
  },
  {
   "cell_type": "code",
   "execution_count": 31,
   "id": "3c9812f0-2581-4925-8db6-79268b12b0a2",
   "metadata": {},
   "outputs": [],
   "source": [
    "class FashGAN(Model):\n",
    "    def __init__(self, generator, discriminator, *args, **kwargs):\n",
    "    #pass through args and kwargs to base class\n",
    "        super().__init__(*args, **kwargs)\n",
    "\n",
    "    #Create attributes for gen and disc\n",
    "        self.generator = generator\n",
    "        self.discriminator = discriminator\n",
    "    def compile(self, g_opt, d_opt, g_loss, d_loss, *args, **kwargs):\n",
    "        #compile with base class\n",
    "        super().compile(*args, **kwargs)\n",
    "\n",
    "        #create attributes for losses and optimizers\n",
    "        self.g_opt = g_opt\n",
    "        self.d_opt = d_opt\n",
    "        self.g_loss = g_loss\n",
    "        self.d_loss = d_loss\n",
    "\n",
    "    def train_step(self, batch):\n",
    "        #get the data\n",
    "        real_images = batch\n",
    "        fake_images = self.generator(tf.random.normal((128,128,1)), training=False)\n",
    "\n",
    "        #train the discriminator\n",
    "        with tf.GradientTape() as d_tape:\n",
    "            #Pass the real and fake images to the discriminating model\n",
    "            yhat_real = self.discriminator(real_images, training=True)\n",
    "            yhat_fake = self.discriminator(fake_images, training=True)\n",
    "            yhat_realfake = tf.concat([yhat_real, yhat_fake], axis=0)\n",
    "\n",
    "            #create labels for real and fake images\n",
    "            y_realfake = tf.concat([tf.zeros_like(yhat_real), tf.ones_like(yhat_fake)], axis=0)\n",
    "\n",
    "            #add some noise to the true outputs\n",
    "            noise_real = 0.15*tf.random.uniform(tf.shape(yhat_real))\n",
    "            noise_fake = -0.15*tf.random.uniform(tf.shape(yhat_fake))\n",
    "            y_realfake += tf.concat([noise_real, noise_fake], axis=0)\n",
    "\n",
    "            #calculate loss - BINARYCROSS\n",
    "            total_d_loss = self.d_loss(y_realfake, yhat_realfake)\n",
    "\n",
    "        #apply backpropogation - nn learn\n",
    "        dgrad = d_tape.gradient(total_d_loss, self.discriminator.trainable_variables)\n",
    "        self.d_opt.apply_gradients(zip(dgrad, self.discriminator.trainable_variables))\n",
    "\n",
    "        #train the generator\n",
    "        with tf.GradientTape() as g_tape:\n",
    "            #generate some new images\n",
    "            gen_images = self.generator(tf.random.normal((128,128,1)), training=True)\n",
    "            \n",
    "            #create the predictive labels\n",
    "            predicted_labels= self.discriminator(gen_images, training=False)\n",
    "\n",
    "            #calculate loss - trick to training to fake out the discriminator\n",
    "            total_g_loss = self.g_loss(tf.zeros_like(predicted_labels), predicted_labels)\n",
    "\n",
    "        #apply backprop\n",
    "        ggrad = g_tape.gradient(total_g_loss, self.generator.trainable_variables)\n",
    "        self.g_opt.apply_gradients(zip(ggrad, self.generator.trainable_variables))\n",
    "\n",
    "        return {\"d_loss\":total_d_loss, \"g_loss\":total_g_loss}"
   ]
  },
  {
   "cell_type": "code",
   "execution_count": 32,
   "id": "3979bf48-22d4-4ce2-b499-f8a257607852",
   "metadata": {},
   "outputs": [],
   "source": [
    "#create instance of subclassed \n",
    "fashgan = FashGAN(generator, discriminator)"
   ]
  },
  {
   "cell_type": "code",
   "execution_count": 33,
   "id": "0b0b5e52-aecf-4a49-a914-a8ce73722ef8",
   "metadata": {},
   "outputs": [
    {
     "name": "stdout",
     "output_type": "stream",
     "text": [
      "WARNING:tensorflow:From C:\\Users\\hithn\\AppData\\Local\\Programs\\Python\\Python311\\Lib\\site-packages\\keras\\src\\optimizers\\__init__.py:309: The name tf.train.Optimizer is deprecated. Please use tf.compat.v1.train.Optimizer instead.\n",
      "\n"
     ]
    },
    {
     "name": "stderr",
     "output_type": "stream",
     "text": [
      "WARNING:tensorflow:From C:\\Users\\hithn\\AppData\\Local\\Programs\\Python\\Python311\\Lib\\site-packages\\keras\\src\\optimizers\\__init__.py:309: The name tf.train.Optimizer is deprecated. Please use tf.compat.v1.train.Optimizer instead.\n",
      "\n"
     ]
    }
   ],
   "source": [
    "fashgan.compile(g_opt, d_opt, g_loss, d_loss)"
   ]
  },
  {
   "cell_type": "code",
   "execution_count": 34,
   "id": "8031932f-c4f1-4008-a1d0-e7fc365cce3a",
   "metadata": {},
   "outputs": [],
   "source": [
    "import os\n",
    "from tensorflow.keras.preprocessing.image import array_to_img\n",
    "from tensorflow.keras.callbacks import Callback"
   ]
  },
  {
   "cell_type": "code",
   "execution_count": 35,
   "id": "d46a5e31-56c2-48de-93bd-8469b9809841",
   "metadata": {},
   "outputs": [],
   "source": [
    "class ModelMonitor(Callback):\n",
    "    def __init__(self, num_img=3, latent_dim=128):\n",
    "        self.num_img = num_img\n",
    "        self.latent_dim = latent_dim\n",
    "\n",
    "    def on_epoch_end(self, epoch, logs=None):\n",
    "        random_latent_vectors = tf.random.uniform((self.num_img, self.latent_dim,1))\n",
    "        generated_images = self.model.generator(random_latent_vectors)\n",
    "        generated_images *= 255\n",
    "        generated_images.numpy()\n",
    "        if not os.path.exists('images'):\n",
    "            os.makedirs('images')\n",
    "        for i in range(self.num_img):\n",
    "            img = array_to_img(generated_images[i])\n",
    "            img.save(os.path.join('images', f'generated_img_{epoch}_{i}.png'))\n"
   ]
  },
  {
   "cell_type": "raw",
   "id": "e1f39bea-99fd-430e-a006-b8d7651fe23f",
   "metadata": {},
   "source": [
    "train"
   ]
  },
  {
   "cell_type": "code",
   "execution_count": 36,
   "id": "82f8569f-0b55-4d31-a2f0-eb357eadeed3",
   "metadata": {},
   "outputs": [
    {
     "name": "stdout",
     "output_type": "stream",
     "text": [
      "Epoch 1/20\n",
      "469/469 [==============================] - 1562s 3s/step - d_loss: 0.4283 - g_loss: 1.3201\n",
      "Epoch 2/20\n",
      "469/469 [==============================] - 1456s 3s/step - d_loss: 0.6001 - g_loss: 1.8333\n",
      "Epoch 3/20\n",
      "469/469 [==============================] - 1311s 3s/step - d_loss: 0.6326 - g_loss: 0.6538\n",
      "Epoch 4/20\n",
      "469/469 [==============================] - 5498s 12s/step - d_loss: 0.4868 - g_loss: 0.2829\n",
      "Epoch 5/20\n",
      "469/469 [==============================] - 1315s 3s/step - d_loss: 0.7264 - g_loss: 0.4470\n",
      "Epoch 6/20\n",
      "469/469 [==============================] - 1341s 3s/step - d_loss: 0.6982 - g_loss: 0.6179\n",
      "Epoch 7/20\n",
      "469/469 [==============================] - 1424s 3s/step - d_loss: 0.6958 - g_loss: 0.6265\n",
      "Epoch 8/20\n",
      "469/469 [==============================] - 14114s 30s/step - d_loss: 0.6882 - g_loss: 0.6368\n",
      "Epoch 9/20\n",
      "469/469 [==============================] - 1452s 3s/step - d_loss: 0.6956 - g_loss: 0.6219\n",
      "Epoch 10/20\n",
      "469/469 [==============================] - 1424s 3s/step - d_loss: 0.6966 - g_loss: 0.6353\n",
      "Epoch 11/20\n",
      "469/469 [==============================] - 1456s 3s/step - d_loss: 0.6639 - g_loss: 0.7665\n",
      "Epoch 12/20\n",
      "469/469 [==============================] - 1471s 3s/step - d_loss: 0.4717 - g_loss: 0.8443\n",
      "Epoch 13/20\n",
      "469/469 [==============================] - 1477s 3s/step - d_loss: 0.3376 - g_loss: 0.1408\n",
      "Epoch 14/20\n",
      "469/469 [==============================] - 1471s 3s/step - d_loss: 0.3093 - g_loss: 0.0511\n",
      "Epoch 15/20\n",
      "469/469 [==============================] - 1474s 3s/step - d_loss: 0.6591 - g_loss: 0.4024\n",
      "Epoch 16/20\n",
      "469/469 [==============================] - 1467s 3s/step - d_loss: 0.6748 - g_loss: 0.5759\n",
      "Epoch 17/20\n",
      "469/469 [==============================] - 1467s 3s/step - d_loss: 0.6914 - g_loss: 0.5671\n",
      "Epoch 18/20\n",
      "469/469 [==============================] - 1465s 3s/step - d_loss: 0.6735 - g_loss: 0.5634\n",
      "Epoch 19/20\n",
      "469/469 [==============================] - 1487s 3s/step - d_loss: 0.6501 - g_loss: 0.5873\n",
      "Epoch 20/20\n",
      "469/469 [==============================] - 1460s 3s/step - d_loss: 0.6501 - g_loss: 0.5344\n"
     ]
    }
   ],
   "source": [
    "hist = fashgan.fit(ds, epochs=20, callbacks=[ModelMonitor()])"
   ]
  },
  {
   "cell_type": "code",
   "execution_count": 1,
   "id": "4cd6ed0b-0e0b-412f-98c3-cddd106f02b8",
   "metadata": {},
   "outputs": [
    {
     "ename": "NameError",
     "evalue": "name 'plt' is not defined",
     "output_type": "error",
     "traceback": [
      "\u001b[1;31m---------------------------------------------------------------------------\u001b[0m",
      "\u001b[1;31mNameError\u001b[0m                                 Traceback (most recent call last)",
      "Cell \u001b[1;32mIn[1], line 1\u001b[0m\n\u001b[1;32m----> 1\u001b[0m \u001b[43mplt\u001b[49m\u001b[38;5;241m.\u001b[39msuptitle(\u001b[38;5;124m'\u001b[39m\u001b[38;5;124mloss\u001b[39m\u001b[38;5;124m'\u001b[39m)\n\u001b[0;32m      2\u001b[0m plt\u001b[38;5;241m.\u001b[39mplot(hist\u001b[38;5;241m.\u001b[39mhistory[\u001b[38;5;124m'\u001b[39m\u001b[38;5;124md_loss\u001b[39m\u001b[38;5;124m'\u001b[39m], label\u001b[38;5;241m=\u001b[39m\u001b[38;5;124m'\u001b[39m\u001b[38;5;124md_loss\u001b[39m\u001b[38;5;124m'\u001b[39m)\n\u001b[0;32m      3\u001b[0m plt\u001b[38;5;241m.\u001b[39mplot(hist\u001b[38;5;241m.\u001b[39mhistory[\u001b[38;5;124m'\u001b[39m\u001b[38;5;124mg_loss\u001b[39m\u001b[38;5;124m'\u001b[39m], label\u001b[38;5;241m=\u001b[39m\u001b[38;5;124m'\u001b[39m\u001b[38;5;124mg_loss\u001b[39m\u001b[38;5;124m'\u001b[39m)\n",
      "\u001b[1;31mNameError\u001b[0m: name 'plt' is not defined"
     ]
    }
   ],
   "source": [
    "plt.suptitle('loss')\n",
    "plt.plot(hist.history['d_loss'], label='d_loss')\n",
    "plt.plot(hist.history['g_loss'], label='g_loss')\n",
    "plt.legend()\n",
    "plt.show()"
   ]
  },
  {
   "cell_type": "markdown",
   "id": "0ae0ef69-433e-450e-bd2e-051293247ad3",
   "metadata": {},
   "source": [
    "testing the generator\n"
   ]
  },
  {
   "cell_type": "code",
   "execution_count": 57,
   "id": "8c65b308-a025-4fe9-b565-31e608995360",
   "metadata": {},
   "outputs": [
    {
     "name": "stdout",
     "output_type": "stream",
     "text": [
      "1/1 [==============================] - 0s 214ms/step\n"
     ]
    }
   ],
   "source": [
    "imgs = generator.predict(tf.random.normal((16, 128, 1)))"
   ]
  },
  {
   "cell_type": "code",
   "execution_count": 52,
   "id": "34f855db-079a-4f03-8e44-8533abbe3b9b",
   "metadata": {},
   "outputs": [
    {
     "data": {
      "image/png": "[encoded data removed]",
      "text/plain": [
       "<Figure size 2000x2000 with 16 Axes>"
      ]
     },
     "metadata": {},
     "output_type": "display_data"
    }
   ],
   "source": [
    "fig, ax = plt.subplots(ncols=4, nrows=4, figsize=(20,20))\n",
    "for r in range(4):\n",
    "    for c in range(4):\n",
    "        ax[r][c].imshow(imgs[(r+1)*(c+1)-1])"
   ]
  },
  {
   "cell_type": "code",
   "execution_count": null,
   "id": "e8ef5b78-b72b-489c-a464-c5bfc0a5130d",
   "metadata": {},
   "outputs": [],
   "source": [
    "generator.save('generator.h5')\n",
    "discriminator.save('discriminator.h5')"
   ]
  }
 ],
 "metadata": {
  "kernelspec": {
   "display_name": "Python 3 (ipykernel)",
   "language": "python",
   "name": "python3"
  },
  "language_info": {
   "codemirror_mode": {
    "name": "ipython",
    "version": 3
   },
   "file_extension": ".py",
   "mimetype": "text/x-python",
   "name": "python",
   "nbconvert_exporter": "python",
   "pygments_lexer": "ipython3",
   "version": "3.11.5"
  }
 },
 "nbformat": 4,
 "nbformat_minor": 5
}
